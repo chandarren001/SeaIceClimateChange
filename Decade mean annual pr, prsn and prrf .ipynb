{
 "cells": [
  {
   "cell_type": "code",
   "execution_count": 1,
   "metadata": {},
   "outputs": [],
   "source": [
    "import numpy as np\n",
    "import xarray as xr"
   ]
  },
  {
   "cell_type": "code",
   "execution_count": 2,
   "metadata": {},
   "outputs": [],
   "source": [
    "#code for pr, prsn, prrf annual values from seasonal values\n",
    "#open pr files\n",
    "file1 = r'C:\\Users\\Asus\\Desktop\\Masters Project\\Data\\pr_actual_9_feb\\pr_seasonal_DJF_mean_anomaly.nc'\n",
    "file2 = r'C:\\Users\\Asus\\Desktop\\Masters Project\\Data\\pr_actual_9_feb\\pr_seasonal_MAM_mean_anomaly.nc'\n",
    "file3 = r'C:\\Users\\Asus\\Desktop\\Masters Project\\Data\\pr_actual_9_feb\\pr_seasonal_JJA_mean_anomaly.nc'\n",
    "file4 = r'C:\\Users\\Asus\\Desktop\\Masters Project\\Data\\pr_actual_9_feb\\pr_seasonal_SON_mean_anomaly.nc'\n",
    "\n",
    "#open nc file into xarray dataset\n",
    "pr_DJF = xr.open_dataset(file1, decode_times=True, use_cftime=True)\n",
    "pr_MAM = xr.open_dataset(file2, decode_times=True, use_cftime=True)\n",
    "pr_JJA = xr.open_dataset(file3, decode_times=True, use_cftime=True)\n",
    "pr_SON = xr.open_dataset(file4, decode_times=True, use_cftime=True)"
   ]
  },
  {
   "cell_type": "code",
   "execution_count": 3,
   "metadata": {},
   "outputs": [],
   "source": [
    "#pr annual by averaging seasonal values\n",
    "pr_annual = (pr_DJF['pr'] + pr_MAM['pr'] + pr_JJA['pr'] + pr_SON['pr'])/4"
   ]
  },
  {
   "cell_type": "code",
   "execution_count": 4,
   "metadata": {},
   "outputs": [],
   "source": [
    "#save pr_annual to netcdf file for plotting later\n",
    "pr_annual.to_netcdf(r'C:\\Users\\Asus\\Desktop\\Masters Project\\Data\\pr_actual_9_feb\\pr_annual_mean_anomaly.nc')"
   ]
  },
  {
   "cell_type": "code",
   "execution_count": 5,
   "metadata": {},
   "outputs": [],
   "source": [
    "#open prsn files\n",
    "file5 = r'C:\\Users\\Asus\\Desktop\\Masters Project\\Data\\prsn_actual\\prsn_seasonal_DJF_mean_anomaly.nc'\n",
    "file6 = r'C:\\Users\\Asus\\Desktop\\Masters Project\\Data\\prsn_actual\\prsn_seasonal_MAM_mean_anomaly.nc'\n",
    "file7 = r'C:\\Users\\Asus\\Desktop\\Masters Project\\Data\\prsn_actual\\prsn_seasonal_JJA_mean_anomaly.nc'\n",
    "file8 = r'C:\\Users\\Asus\\Desktop\\Masters Project\\Data\\prsn_actual\\prsn_seasonal_SON_mean_anomaly.nc'\n",
    "\n",
    "#open nc file into xarray dataset\n",
    "prsn_DJF = xr.open_dataset(file5, decode_times=True, use_cftime=True)\n",
    "prsn_MAM = xr.open_dataset(file6, decode_times=True, use_cftime=True)\n",
    "prsn_JJA = xr.open_dataset(file7, decode_times=True, use_cftime=True)\n",
    "prsn_SON = xr.open_dataset(file8, decode_times=True, use_cftime=True)"
   ]
  },
  {
   "cell_type": "code",
   "execution_count": 6,
   "metadata": {},
   "outputs": [],
   "source": [
    "#prsn annual by averaging seasonal values\n",
    "prsn_annual = (prsn_DJF['prsn'] + prsn_MAM['prsn'] + prsn_JJA['prsn'] + prsn_SON['prsn'])/4"
   ]
  },
  {
   "cell_type": "code",
   "execution_count": 7,
   "metadata": {},
   "outputs": [],
   "source": [
    "#save prsn_annual to netcdf file for plotting later\n",
    "prsn_annual.to_netcdf(r'C:\\Users\\Asus\\Desktop\\Masters Project\\Data\\prsn_actual\\prsn_annual_mean_anomaly.nc')"
   ]
  },
  {
   "cell_type": "code",
   "execution_count": 8,
   "metadata": {},
   "outputs": [],
   "source": [
    "#open prrf files\n",
    "file9 = r'C:\\Users\\Asus\\Desktop\\Masters Project\\Data\\pr_actual_9_feb\\prrf_seasonal_DJF_mean_anomaly.nc'\n",
    "file10 = r'C:\\Users\\Asus\\Desktop\\Masters Project\\Data\\pr_actual_9_feb\\prrf_seasonal_MAM_mean_anomaly.nc'\n",
    "file11 = r'C:\\Users\\Asus\\Desktop\\Masters Project\\Data\\pr_actual_9_feb\\prrf_seasonal_JJA_mean_anomaly.nc'\n",
    "file12 = r'C:\\Users\\Asus\\Desktop\\Masters Project\\Data\\pr_actual_9_feb\\prrf_seasonal_SON_mean_anomaly.nc'\n",
    "\n",
    "#open nc file into xarray dataset\n",
    "prrf_DJF = xr.open_dataset(file9, decode_times=True, use_cftime=True)\n",
    "prrf_MAM = xr.open_dataset(file10, decode_times=True, use_cftime=True)\n",
    "prrf_JJA = xr.open_dataset(file11, decode_times=True, use_cftime=True)\n",
    "prrf_SON = xr.open_dataset(file12, decode_times=True, use_cftime=True)"
   ]
  },
  {
   "cell_type": "code",
   "execution_count": 10,
   "metadata": {},
   "outputs": [],
   "source": [
    "#prrf annual by averaging seasonal values\n",
    "#variables in the file saved originally was '__xarray_dataarray_variable__' \n",
    "#replace with the variable name for prrf, this was done inefficiently\n",
    "\n",
    "prrf_annual = (prrf_DJF['__xarray_dataarray_variable__'] + prrf_MAM['__xarray_dataarray_variable__'] + prrf_JJA['__xarray_dataarray_variable__'] \n",
    "              + prrf_SON['__xarray_dataarray_variable__'])/4"
   ]
  },
  {
   "cell_type": "code",
   "execution_count": 11,
   "metadata": {},
   "outputs": [],
   "source": [
    "#save prrf_annual to netcdf file for plotting later\n",
    "prrf_annual.to_netcdf(r'C:\\Users\\Asus\\Desktop\\Masters Project\\Data\\pr_actual_9_feb\\prrf_annual_mean_anomaly.nc')"
   ]
  }
 ],
 "metadata": {
  "kernelspec": {
   "display_name": "Python 3",
   "language": "python",
   "name": "python3"
  },
  "language_info": {
   "codemirror_mode": {
    "name": "ipython",
    "version": 3
   },
   "file_extension": ".py",
   "mimetype": "text/x-python",
   "name": "python",
   "nbconvert_exporter": "python",
   "pygments_lexer": "ipython3",
   "version": "3.7.4"
  }
 },
 "nbformat": 4,
 "nbformat_minor": 2
}

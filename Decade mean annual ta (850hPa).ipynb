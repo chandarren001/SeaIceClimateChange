{
 "cells": [
  {
   "cell_type": "code",
   "execution_count": 1,
   "metadata": {},
   "outputs": [],
   "source": [
    "import numpy as np\n",
    "import xarray as xr"
   ]
  },
  {
   "cell_type": "code",
   "execution_count": 3,
   "metadata": {},
   "outputs": [],
   "source": [
    "#code for ta (850 hPa) annual values from seasonal values\n",
    "#open ta files\n",
    "file1 = r'C:\\Users\\Asus\\Desktop\\Masters Project\\Data\\ta_850_22_feb\\ta_anomaly_seasonal\\ta_seasonal_DJF_mean_anomaly.nc'\n",
    "file2 = r'C:\\Users\\Asus\\Desktop\\Masters Project\\Data\\ta_850_22_feb\\ta_anomaly_seasonal\\ta_seasonal_MAM_mean_anomaly.nc'\n",
    "file3 = r'C:\\Users\\Asus\\Desktop\\Masters Project\\Data\\ta_850_22_feb\\ta_anomaly_seasonal\\ta_seasonal_JJA_mean_anomaly.nc'\n",
    "file4 = r'C:\\Users\\Asus\\Desktop\\Masters Project\\Data\\ta_850_22_feb\\ta_anomaly_seasonal\\ta_seasonal_SON_mean_anomaly.nc'\n",
    "\n",
    "#open nc file into xarray dataset\n",
    "ta_DJF = xr.open_dataset(file1, decode_times=True, use_cftime=True)\n",
    "ta_MAM = xr.open_dataset(file2, decode_times=True, use_cftime=True)\n",
    "ta_JJA = xr.open_dataset(file3, decode_times=True, use_cftime=True)\n",
    "ta_SON = xr.open_dataset(file4, decode_times=True, use_cftime=True)"
   ]
  },
  {
   "cell_type": "code",
   "execution_count": 4,
   "metadata": {},
   "outputs": [],
   "source": [
    "#ta annual by averaging seasonal values\n",
    "ta_annual = (ta_DJF['ta'] + pr_MAM['ta'] + pr_JJA['ta'] + pr_SON['ta'])/4"
   ]
  },
  {
   "cell_type": "code",
   "execution_count": 5,
   "metadata": {},
   "outputs": [],
   "source": [
    "#save ta_annual to netcdf file for plotting later\n",
    "ta_annual.to_netcdf(r'C:\\Users\\Asus\\Desktop\\Masters Project\\Data\\ta_850_22_feb\\ta_annual_model_mean.nc')"
   ]
  },
  {
   "cell_type": "code",
   "execution_count": null,
   "metadata": {},
   "outputs": [],
   "source": []
  }
 ],
 "metadata": {
  "kernelspec": {
   "display_name": "Python 3",
   "language": "python",
   "name": "python3"
  },
  "language_info": {
   "codemirror_mode": {
    "name": "ipython",
    "version": 3
   },
   "file_extension": ".py",
   "mimetype": "text/x-python",
   "name": "python",
   "nbconvert_exporter": "python",
   "pygments_lexer": "ipython3",
   "version": "3.7.4"
  }
 },
 "nbformat": 4,
 "nbformat_minor": 2
}

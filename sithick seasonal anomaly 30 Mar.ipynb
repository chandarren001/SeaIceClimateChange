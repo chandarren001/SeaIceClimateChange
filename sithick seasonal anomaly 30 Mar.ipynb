{
 "cells": [
  {
   "cell_type": "code",
   "execution_count": 1,
   "metadata": {},
   "outputs": [],
   "source": [
    "# Code for seasonal anomaly for sithick between end of century (2090-2100) and start of century (2000-2010)\n",
    "import numpy as np\n",
    "import xarray as xr\n"
   ]
  },
  {
   "cell_type": "code",
   "execution_count": 2,
   "metadata": {},
   "outputs": [],
   "source": [
    "# Open sithick file\n",
    "file = r'C:\\Users\\Asus\\Desktop\\Masters Project\\Uncut Data\\sithick\\sithick_1D\\sithick_combined\\sithick_MMM.nc'\n",
    "ds = xr.open_dataset(file)"
   ]
  },
  {
   "cell_type": "code",
   "execution_count": 3,
   "metadata": {},
   "outputs": [
    {
     "name": "stdout",
     "output_type": "stream",
     "text": [
      "<xarray.Dataset>\n",
      "Dimensions:             (bnds: 2, latitude: 16, longitude: 180, time: 1212)\n",
      "Coordinates:\n",
      "  * time                (time) datetime64[ns] 2000-01-16T12:00:00 ... 2100-12-16T12:00:00\n",
      "  * latitude            (latitude) float64 60.0 62.0 64.0 ... 86.0 88.0 90.0\n",
      "  * longitude           (longitude) float64 0.0 2.006 4.011 ... 357.0 359.0\n",
      "Dimensions without coordinates: bnds\n",
      "Data variables:\n",
      "    unknown             (time, latitude, longitude) float32 ...\n",
      "    latitude_longitude  int32 ...\n",
      "    time_bnds           (time, bnds) datetime64[ns] ...\n",
      "    latitude_bnds       (latitude, bnds) float64 ...\n",
      "    longitude_bnds      (longitude, bnds) float64 ...\n",
      "Attributes:\n",
      "    Conventions:  CF-1.7\n"
     ]
    }
   ],
   "source": [
    "print(ds)"
   ]
  },
  {
   "cell_type": "code",
   "execution_count": 4,
   "metadata": {},
   "outputs": [
    {
     "name": "stdout",
     "output_type": "stream",
     "text": [
      "<xarray.DataArray 'unknown' (time: 132, latitude: 16, longitude: 180)>\n",
      "[380160 values with dtype=float32]\n",
      "Coordinates:\n",
      "  * time       (time) datetime64[ns] 2090-01-16T12:00:00 ... 2100-12-16T12:00:00\n",
      "  * latitude   (latitude) float64 60.0 62.0 64.0 66.0 ... 84.0 86.0 88.0 90.0\n",
      "  * longitude  (longitude) float64 0.0 2.006 4.011 6.017 ... 355.0 357.0 359.0\n",
      "Attributes:\n",
      "    units:         m\n",
      "    grid_mapping:  latitude_longitude\n"
     ]
    }
   ],
   "source": [
    "# End of century sithick\n",
    "End_Decade = ds['unknown'][1080:1212]\n",
    "print(End_Decade)"
   ]
  },
  {
   "cell_type": "code",
   "execution_count": 5,
   "metadata": {},
   "outputs": [],
   "source": [
    "# Group by seasonal for seasonal average\n",
    "ds_season_end = End_Decade.groupby('time.season').mean('time')"
   ]
  },
  {
   "cell_type": "code",
   "execution_count": 6,
   "metadata": {},
   "outputs": [],
   "source": [
    "# Extract each seasonal average for end of century\n",
    "\n",
    "DJF_test_end = ds_season_end[0]\n",
    "JJA_test_end = ds_season_end[1]\n",
    "MAM_test_end = ds_season_end[2]\n",
    "SON_test_end = ds_season_end[3]"
   ]
  },
  {
   "cell_type": "code",
   "execution_count": 7,
   "metadata": {},
   "outputs": [
    {
     "name": "stdout",
     "output_type": "stream",
     "text": [
      "<xarray.DataArray 'unknown' (time: 132, latitude: 16, longitude: 180)>\n",
      "[380160 values with dtype=float32]\n",
      "Coordinates:\n",
      "  * time       (time) datetime64[ns] 2000-01-16T12:00:00 ... 2010-12-16T12:00:00\n",
      "  * latitude   (latitude) float64 60.0 62.0 64.0 66.0 ... 84.0 86.0 88.0 90.0\n",
      "  * longitude  (longitude) float64 0.0 2.006 4.011 6.017 ... 355.0 357.0 359.0\n",
      "Attributes:\n",
      "    units:         m\n",
      "    grid_mapping:  latitude_longitude\n"
     ]
    }
   ],
   "source": [
    "# Start of century sithick\n",
    "Start_Decade = ds['unknown'][0:132]\n",
    "print(Start_Decade)"
   ]
  },
  {
   "cell_type": "code",
   "execution_count": 8,
   "metadata": {},
   "outputs": [],
   "source": [
    "# Groupby Seasonal for seasonal average\n",
    "ds_season_start = Start_Decade.groupby('time.season').mean('time')"
   ]
  },
  {
   "cell_type": "code",
   "execution_count": 9,
   "metadata": {},
   "outputs": [],
   "source": [
    "# Save each seasonal average for start of century\n",
    "DJF_test_start = ds_season_start[0]\n",
    "JJA_test_start = ds_season_start[1]\n",
    "MAM_test_start = ds_season_start[2]\n",
    "SON_test_start = ds_season_start[3]"
   ]
  },
  {
   "cell_type": "code",
   "execution_count": 10,
   "metadata": {},
   "outputs": [],
   "source": [
    "# sithick anomalies\n",
    "\n",
    "Anomaly_DJF = DJF_test_end - DJF_test_start \n",
    "Anomaly_JJA = JJA_test_end - JJA_test_start \n",
    "Anomaly_MAM = MAM_test_end - MAM_test_start \n",
    "Anomaly_SON = SON_test_end - SON_test_start "
   ]
  },
  {
   "cell_type": "code",
   "execution_count": 11,
   "metadata": {},
   "outputs": [],
   "source": [
    "# Save sithick anomalies\n",
    "\n",
    "Anomaly_DJF.to_netcdf(r'C:\\Users\\Asus\\Desktop\\Masters Project\\Uncut Data\\sithick\\sithick_anomaly\\sithick_DJF-MMM-Anomaly.nc')\n",
    "Anomaly_JJA.to_netcdf(r'C:\\Users\\Asus\\Desktop\\Masters Project\\Uncut Data\\sithick\\sithick_anomaly\\sithick_JJA-MMM-Anomaly.nc')\n",
    "Anomaly_MAM.to_netcdf(r'C:\\Users\\Asus\\Desktop\\Masters Project\\Uncut Data\\sithick\\sithick_anomaly\\sithick_MAM-MMM-Anomaly.nc')\n",
    "Anomaly_SON.to_netcdf(r'C:\\Users\\Asus\\Desktop\\Masters Project\\Uncut Data\\sithick\\sithick_anomaly\\sithick_SON-MMM-Anomaly.nc')"
   ]
  },
  {
   "cell_type": "code",
   "execution_count": null,
   "metadata": {},
   "outputs": [],
   "source": []
  }
 ],
 "metadata": {
  "kernelspec": {
   "display_name": "Python 3",
   "language": "python",
   "name": "python3"
  },
  "language_info": {
   "codemirror_mode": {
    "name": "ipython",
    "version": 3
   },
   "file_extension": ".py",
   "mimetype": "text/x-python",
   "name": "python",
   "nbconvert_exporter": "python",
   "pygments_lexer": "ipython3",
   "version": "3.7.4"
  }
 },
 "nbformat": 4,
 "nbformat_minor": 2
}

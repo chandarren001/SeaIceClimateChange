{
 "cells": [
  {
   "cell_type": "code",
   "execution_count": 1,
   "metadata": {},
   "outputs": [],
   "source": [
    "#This code is used to get the model seasonal mean. Can be used for ta (850hPa)\n",
    "#Do take note of the variable used as this will have to be changed and labelled accordingly\n",
    "\n",
    "import numpy\n",
    "import xarray"
   ]
  },
  {
   "cell_type": "code",
   "execution_count": 2,
   "metadata": {},
   "outputs": [],
   "source": [
    "#DJF files for each model \n",
    "dset1 = xarray.open_dataset(r'C:\\Users\\Asus\\Desktop\\Masters Project\\Data\\ta_850_22_feb\\ta_anomaly_model\\ta_DJF_ACCESS-CM2_Anomaly_2100-2000.nc')\n",
    "dset2 = xarray.open_dataset(r'C:\\Users\\Asus\\Desktop\\Masters Project\\Data\\ta_850_22_feb\\ta_anomaly_model\\ta_DJF_ACCESS-ESM-1-5_Anomaly_2100-2000.nc')\n",
    "dset3 = xarray.open_dataset(r'C:\\Users\\Asus\\Desktop\\Masters Project\\Data\\ta_850_22_feb\\ta_anomaly_model\\ta_DJF_CanESM5_Anomaly_2100-2000.nc')\n",
    "dset5 = xarray.open_dataset(r'C:\\Users\\Asus\\Desktop\\Masters Project\\Data\\ta_850_22_feb\\ta_anomaly_model\\ta_DJF_CNRM-ESM2-1_Anomaly_2100-2000.nc')\n",
    "dset6 = xarray.open_dataset(r'C:\\Users\\Asus\\Desktop\\Masters Project\\Data\\ta_850_22_feb\\ta_anomaly_model\\ta_DJF_EC-Earth3_Anomaly_2100-2000.nc')\n",
    "dset7 = xarray.open_dataset(r'C:\\Users\\Asus\\Desktop\\Masters Project\\Data\\ta_850_22_feb\\ta_anomaly_model\\ta_DJF_EC-Earth3-Veg_Anomaly_2100-2000.nc')\n",
    "dset8 = xarray.open_dataset(r'C:\\Users\\Asus\\Desktop\\Masters Project\\Data\\ta_850_22_feb\\ta_anomaly_model\\ta_DJF_HadGEM3-GC31-LL_Anomaly_2100-2000.nc')\n",
    "dset9 = xarray.open_dataset(r'C:\\Users\\Asus\\Desktop\\Masters Project\\Data\\ta_850_22_feb\\ta_anomaly_model\\ta_DJF_HadGEM3-GC31-MM_Anomaly_2100-2000.nc')\n",
    "dset10 = xarray.open_dataset(r'C:\\Users\\Asus\\Desktop\\Masters Project\\Data\\ta_850_22_feb\\ta_anomaly_model\\ta_DJF_IPSL-CM6A-LR_Anomaly_2100-2000.nc')\n",
    "dset11 = xarray.open_dataset(r'C:\\Users\\Asus\\Desktop\\Masters Project\\Data\\ta_850_22_feb\\ta_anomaly_model\\ta_DJF_MIROC6_Anomaly_2100-2000.nc')\n",
    "dset12 = xarray.open_dataset(r'C:\\Users\\Asus\\Desktop\\Masters Project\\Data\\ta_850_22_feb\\ta_anomaly_model\\ta_DJF_MRI-ESM2-0_Anomaly_2100-2000.nc')\n",
    "dset13 = xarray.open_dataset(r'C:\\Users\\Asus\\Desktop\\Masters Project\\Data\\ta_850_22_feb\\ta_anomaly_model\\ta_DJF_NorESM2-LM_Anomaly_2100-2000.nc')"
   ]
  },
  {
   "cell_type": "code",
   "execution_count": 4,
   "metadata": {},
   "outputs": [],
   "source": [
    "#Model average for DJF\n",
    "model_average_DJF = (dset1['ta'] + dset2['ta'] + dset3['ta'] + dset5['ta'] + dset6['ta'] + dset7['ta'] + \n",
    "      dset8['ta'] + dset9['ta'] + dset10['ta'] + dset11['ta'] + dset12['ta'] + dset13['ta'])/12"
   ]
  },
  {
   "cell_type": "code",
   "execution_count": 5,
   "metadata": {},
   "outputs": [],
   "source": [
    "#Save model average for DJF into nc file\n",
    "model_average_DJF.to_netcdf(r'C:\\Users\\Asus\\Desktop\\Masters Project\\Data\\ta_850_22_feb\\ta_anomaly_seasonal\\ta_seasonal_DJF_mean_anomaly.nc')"
   ]
  },
  {
   "cell_type": "code",
   "execution_count": 7,
   "metadata": {},
   "outputs": [],
   "source": [
    "#Repeat for other seasons\n",
    "#JJA files for each model\n",
    "\n",
    "dset1_JJA = xarray.open_dataset(r'C:\\Users\\Asus\\Desktop\\Masters Project\\Data\\ta_850_22_feb\\ta_anomaly_model\\ta_JJA_ACCESS-CM2_Anomaly_2100-2000.nc')\n",
    "dset2_JJA = xarray.open_dataset(r'C:\\Users\\Asus\\Desktop\\Masters Project\\Data\\ta_850_22_feb\\ta_anomaly_model\\ta_JJA_ACCESS-ESM-1-5_Anomaly_2100-2000.nc')\n",
    "dset3_JJA = xarray.open_dataset(r'C:\\Users\\Asus\\Desktop\\Masters Project\\Data\\ta_850_22_feb\\ta_anomaly_model\\ta_JJA_CanESM5_Anomaly_2100-2000.nc')\n",
    "dset5_JJA = xarray.open_dataset(r'C:\\Users\\Asus\\Desktop\\Masters Project\\Data\\ta_850_22_feb\\ta_anomaly_model\\ta_JJA_CNRM-ESM2-1_Anomaly_2100-2000.nc')\n",
    "dset6_JJA = xarray.open_dataset(r'C:\\Users\\Asus\\Desktop\\Masters Project\\Data\\ta_850_22_feb\\ta_anomaly_model\\ta_JJA_EC-Earth3_Anomaly_2100-2000.nc')\n",
    "dset7_JJA = xarray.open_dataset(r'C:\\Users\\Asus\\Desktop\\Masters Project\\Data\\ta_850_22_feb\\ta_anomaly_model\\ta_JJA_EC-Earth3-Veg_Anomaly_2100-2000.nc')\n",
    "dset8_JJA = xarray.open_dataset(r'C:\\Users\\Asus\\Desktop\\Masters Project\\Data\\ta_850_22_feb\\ta_anomaly_model\\ta_JJA_HadGEM3-GC31-LL_Anomaly_2100-2000.nc')\n",
    "dset9_JJA = xarray.open_dataset(r'C:\\Users\\Asus\\Desktop\\Masters Project\\Data\\ta_850_22_feb\\ta_anomaly_model\\ta_JJA_HadGEM3-GC31-MM_Anomaly_2100-2000.nc')\n",
    "dset10_JJA = xarray.open_dataset(r'C:\\Users\\Asus\\Desktop\\Masters Project\\Data\\ta_850_22_feb\\ta_anomaly_model\\ta_JJA_IPSL-CM6A-LR_Anomaly_2100-2000.nc')\n",
    "dset11_JJA = xarray.open_dataset(r'C:\\Users\\Asus\\Desktop\\Masters Project\\Data\\ta_850_22_feb\\ta_anomaly_model\\ta_JJA_MIROC6_Anomaly_2100-2000.nc')\n",
    "dset12_JJA = xarray.open_dataset(r'C:\\Users\\Asus\\Desktop\\Masters Project\\Data\\ta_850_22_feb\\ta_anomaly_model\\ta_JJA_MRI-ESM2-0_Anomaly_2100-2000.nc')\n",
    "dset13_JJA = xarray.open_dataset(r'C:\\Users\\Asus\\Desktop\\Masters Project\\Data\\ta_850_22_feb\\ta_anomaly_model\\ta_JJA_NorESM2-LM_Anomaly_2100-2000.nc')"
   ]
  },
  {
   "cell_type": "code",
   "execution_count": 8,
   "metadata": {},
   "outputs": [],
   "source": [
    "#Model average for JJA\n",
    "model_average_JJA = (dset1_JJA['ta'] + dset2_JJA['ta'] + dset3_JJA['ta'] + dset5_JJA['ta'] + dset6_JJA['ta'] + dset7_JJA['ta'] + \n",
    "      dset8_JJA['ta'] + dset9_JJA['ta'] + dset10_JJA['ta'] + dset11_JJA['ta'] + dset12_JJA['ta'] + dset13_JJA['ta'])/12"
   ]
  },
  {
   "cell_type": "code",
   "execution_count": 9,
   "metadata": {},
   "outputs": [],
   "source": [
    "#Save model average for JJA into nc file\n",
    "model_average_JJA.to_netcdf(r'C:\\Users\\Asus\\Desktop\\Masters Project\\Data\\ta_850_22_feb\\ta_anomaly_seasonal\\ta_seasonal_JJA_mean_anomaly.nc')"
   ]
  },
  {
   "cell_type": "code",
   "execution_count": 10,
   "metadata": {},
   "outputs": [],
   "source": [
    "#MAM files for each model\n",
    "dset1_MAM = xarray.open_dataset(r'C:\\Users\\Asus\\Desktop\\Masters Project\\Data\\ta_850_22_feb\\ta_anomaly_model\\ta_MAM_ACCESS-CM2_Anomaly_2100-2000.nc')\n",
    "dset2_MAM = xarray.open_dataset(r'C:\\Users\\Asus\\Desktop\\Masters Project\\Data\\ta_850_22_feb\\ta_anomaly_model\\ta_MAM_ACCESS-ESM-1-5_Anomaly_2100-2000.nc')\n",
    "dset3_MAM = xarray.open_dataset(r'C:\\Users\\Asus\\Desktop\\Masters Project\\Data\\ta_850_22_feb\\ta_anomaly_model\\ta_MAM_CanESM5_Anomaly_2100-2000.nc')\n",
    "dset5_MAM = xarray.open_dataset(r'C:\\Users\\Asus\\Desktop\\Masters Project\\Data\\ta_850_22_feb\\ta_anomaly_model\\ta_MAM_CNRM-ESM2-1_Anomaly_2100-2000.nc')\n",
    "dset6_MAM = xarray.open_dataset(r'C:\\Users\\Asus\\Desktop\\Masters Project\\Data\\ta_850_22_feb\\ta_anomaly_model\\ta_MAM_EC-Earth3_Anomaly_2100-2000.nc')\n",
    "dset7_MAM = xarray.open_dataset(r'C:\\Users\\Asus\\Desktop\\Masters Project\\Data\\ta_850_22_feb\\ta_anomaly_model\\ta_MAM_EC-Earth3-Veg_Anomaly_2100-2000.nc')\n",
    "dset8_MAM = xarray.open_dataset(r'C:\\Users\\Asus\\Desktop\\Masters Project\\Data\\ta_850_22_feb\\ta_anomaly_model\\ta_MAM_HadGEM3-GC31-LL_Anomaly_2100-2000.nc')\n",
    "dset9_MAM = xarray.open_dataset(r'C:\\Users\\Asus\\Desktop\\Masters Project\\Data\\ta_850_22_feb\\ta_anomaly_model\\ta_MAM_HadGEM3-GC31-MM_Anomaly_2100-2000.nc')\n",
    "dset10_MAM = xarray.open_dataset(r'C:\\Users\\Asus\\Desktop\\Masters Project\\Data\\ta_850_22_feb\\ta_anomaly_model\\ta_MAM_IPSL-CM6A-LR_Anomaly_2100-2000.nc')\n",
    "dset11_MAM = xarray.open_dataset(r'C:\\Users\\Asus\\Desktop\\Masters Project\\Data\\ta_850_22_feb\\ta_anomaly_model\\ta_MAM_MIROC6_Anomaly_2100-2000.nc')\n",
    "dset12_MAM = xarray.open_dataset(r'C:\\Users\\Asus\\Desktop\\Masters Project\\Data\\ta_850_22_feb\\ta_anomaly_model\\ta_MAM_MRI-ESM2-0_Anomaly_2100-2000.nc')\n",
    "dset13_MAM = xarray.open_dataset(r'C:\\Users\\Asus\\Desktop\\Masters Project\\Data\\ta_850_22_feb\\ta_anomaly_model\\ta_MAM_NorESM2-LM_Anomaly_2100-2000.nc')"
   ]
  },
  {
   "cell_type": "code",
   "execution_count": 11,
   "metadata": {},
   "outputs": [],
   "source": [
    "#Model average for MAM\n",
    "model_average_MAM = (dset1_MAM['ta'] + dset2_MAM['ta'] + dset3_MAM['ta'] + dset5_MAM['ta'] + dset6_MAM['ta'] + dset7_MAM['ta'] + \n",
    "      dset8_MAM['ta'] + dset9_MAM['ta'] + dset10_MAM['ta'] + dset11_MAM['ta'] + dset12_MAM['ta'] + dset13_MAM['ta'])/12"
   ]
  },
  {
   "cell_type": "code",
   "execution_count": 12,
   "metadata": {},
   "outputs": [],
   "source": [
    "#Save model average for MAM into nc file\n",
    "model_average_MAM.to_netcdf(r'C:\\Users\\Asus\\Desktop\\Masters Project\\Data\\ta_850_22_feb\\ta_anomaly_seasonal\\ta_seasonal_MAM_mean_anomaly.nc')"
   ]
  },
  {
   "cell_type": "code",
   "execution_count": 15,
   "metadata": {},
   "outputs": [],
   "source": [
    "#SON files for each model\n",
    "dset1_SON = xarray.open_dataset(r'C:\\Users\\Asus\\Desktop\\Masters Project\\Data\\ta_850_22_feb\\ta_anomaly_model\\ta_SON_ACCESS-CM2_Anomaly_2100-2000.nc')\n",
    "dset2_SON = xarray.open_dataset(r'C:\\Users\\Asus\\Desktop\\Masters Project\\Data\\ta_850_22_feb\\ta_anomaly_model\\ta_SON_ACCESS-ESM-1-5_Anomaly_2100-2000.nc')\n",
    "dset3_SON = xarray.open_dataset(r'C:\\Users\\Asus\\Desktop\\Masters Project\\Data\\ta_850_22_feb\\ta_anomaly_model\\ta_SON_CanESM5_Anomaly_2100-2000.nc')\n",
    "dset5_SON = xarray.open_dataset(r'C:\\Users\\Asus\\Desktop\\Masters Project\\Data\\ta_850_22_feb\\ta_anomaly_model\\ta_SON_CNRM-ESM2-1_Anomaly_2100-2000.nc')\n",
    "dset6_SON = xarray.open_dataset(r'C:\\Users\\Asus\\Desktop\\Masters Project\\Data\\ta_850_22_feb\\ta_anomaly_model\\ta_SON_EC-Earth3_Anomaly_2100-2000.nc')\n",
    "dset7_SON = xarray.open_dataset(r'C:\\Users\\Asus\\Desktop\\Masters Project\\Data\\ta_850_22_feb\\ta_anomaly_model\\ta_SON_EC-Earth3-Veg_Anomaly_2100-2000.nc')\n",
    "dset8_SON = xarray.open_dataset(r'C:\\Users\\Asus\\Desktop\\Masters Project\\Data\\ta_850_22_feb\\ta_anomaly_model\\ta_SON_HadGEM3-GC31-LL_Anomaly_2100-2000.nc')\n",
    "dset9_SON = xarray.open_dataset(r'C:\\Users\\Asus\\Desktop\\Masters Project\\Data\\ta_850_22_feb\\ta_anomaly_model\\ta_SON_HadGEM3-GC31-MM_Anomaly_2100-2000.nc')\n",
    "dset10_SON = xarray.open_dataset(r'C:\\Users\\Asus\\Desktop\\Masters Project\\Data\\ta_850_22_feb\\ta_anomaly_model\\ta_SON_IPSL-CM6A-LR_Anomaly_2100-2000.nc')\n",
    "dset11_SON = xarray.open_dataset(r'C:\\Users\\Asus\\Desktop\\Masters Project\\Data\\ta_850_22_feb\\ta_anomaly_model\\ta_SON_MIROC6_Anomaly_2100-2000.nc')\n",
    "dset12_SON = xarray.open_dataset(r'C:\\Users\\Asus\\Desktop\\Masters Project\\Data\\ta_850_22_feb\\ta_anomaly_model\\ta_SON_MRI-ESM2-0_Anomaly_2100-2000.nc')\n",
    "dset13_SON = xarray.open_dataset(r'C:\\Users\\Asus\\Desktop\\Masters Project\\Data\\ta_850_22_feb\\ta_anomaly_model\\ta_SON_NorESM2-LM_Anomaly_2100-2000.nc')"
   ]
  },
  {
   "cell_type": "code",
   "execution_count": 16,
   "metadata": {},
   "outputs": [],
   "source": [
    "#Model average for SON\n",
    "model_average_SON = (dset1_SON['ta'] + dset2_SON['ta'] + dset3_SON['ta'] + dset5_SON['ta'] + dset6_SON['ta'] + dset7_SON['ta'] + \n",
    "      dset8_SON['ta'] + dset9_SON['ta'] + dset10_SON['ta'] + dset11_SON['ta'] + dset12_SON['ta'] + dset13_SON['ta'])/12"
   ]
  },
  {
   "cell_type": "code",
   "execution_count": 17,
   "metadata": {},
   "outputs": [],
   "source": [
    "#Save model average for SON into nc file\n",
    "model_average_SON.to_netcdf(r'C:\\Users\\Asus\\Desktop\\Masters Project\\Data\\ta_850_22_feb\\ta_anomaly_seasonal\\ta_seasonal_SON_mean_anomaly.nc')"
   ]
  },
  {
   "cell_type": "code",
   "execution_count": null,
   "metadata": {},
   "outputs": [],
   "source": []
  }
 ],
 "metadata": {
  "kernelspec": {
   "display_name": "Python 3",
   "language": "python",
   "name": "python3"
  },
  "language_info": {
   "codemirror_mode": {
    "name": "ipython",
    "version": 3
   },
   "file_extension": ".py",
   "mimetype": "text/x-python",
   "name": "python",
   "nbconvert_exporter": "python",
   "pygments_lexer": "ipython3",
   "version": "3.7.4"
  }
 },
 "nbformat": 4,
 "nbformat_minor": 2
}

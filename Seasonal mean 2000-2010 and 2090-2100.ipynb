{
 "cells": [
  {
   "cell_type": "code",
   "execution_count": 1,
   "metadata": {},
   "outputs": [],
   "source": [
    "import numpy as np\n",
    "import xarray as xr\n"
   ]
  },
  {
   "cell_type": "code",
   "execution_count": 2,
   "metadata": {},
   "outputs": [],
   "source": [
    "#Load files to process\n",
    "#Files were originally saved into 1950-2014 monthly and 2015-2100 monthly without concatenating\n",
    "#Due to time coordinate issues, all data was processed individually by model\n",
    "#A more efficient code could be written to merge all models into one file for manipulation but this code will still work\n",
    "\n",
    "file = r'C:\\Users\\Asus\\Desktop\\Masters Project\\Data\\pr_actual_9_feb\\pr_regrid\\pr_IPSL-CM6A-LR_1950_2014_monthly.nc'\n",
    "ds = xr.open_dataset(file)\n",
    "\n",
    "file2 = r'C:\\Users\\Asus\\Desktop\\Masters Project\\Data\\pr_actual_9_feb\\pr_regrid\\pr_NorESM2-LM_2015_2100_monthly.nc'\n",
    "ds2 = xr.open_dataset(file2)"
   ]
  },
  {
   "cell_type": "code",
   "execution_count": 5,
   "metadata": {},
   "outputs": [
    {
     "name": "stdout",
     "output_type": "stream",
     "text": [
      "<xarray.DataArray 'pr' (time: 132, lat: 31, lon: 360)>\n",
      "[1473120 values with dtype=float32]\n",
      "Coordinates:\n",
      "  * time     (time) datetime64[ns] 2090-01-16T12:00:00 ... 2100-12-16T12:00:00\n",
      "  * lat      (lat) float64 60.0 61.0 62.0 63.0 64.0 ... 86.0 87.0 88.0 89.0 90.0\n",
      "  * lon      (lon) float64 0.0 1.0 2.0 3.0 4.0 ... 355.0 356.0 357.0 358.0 359.0\n",
      "    model    |S12 ...\n",
      "Attributes:\n",
      "    units:    mm day-1\n"
     ]
    }
   ],
   "source": [
    "#Get monthly pr values for 2090-2100\n",
    "\n",
    "End_Decade = ds2['pr'][900:1032]\n",
    "print(End_Decade)"
   ]
  },
  {
   "cell_type": "code",
   "execution_count": 6,
   "metadata": {},
   "outputs": [
    {
     "name": "stdout",
     "output_type": "stream",
     "text": [
      "<xarray.DataArray 'pr' (season: 4, lat: 31, lon: 360)>\n",
      "array([[[5.140434 , 4.9685297, 5.670221 , ..., 5.2328115, 5.3028135,\n",
      "         5.312338 ],\n",
      "        [5.541264 , 5.177953 , 5.926051 , ..., 6.0179358, 6.0050597,\n",
      "         5.904576 ],\n",
      "        [5.1512175, 5.0002437, 5.59511  , ..., 5.2405934, 5.297361 ,\n",
      "         5.3021927],\n",
      "        ...,\n",
      "        [1.5719815, 1.6088173, 1.6253769, ..., 1.4736294, 1.5035197,\n",
      "         1.5351461],\n",
      "        [1.6959968, 1.6867869, 1.6756474, ..., 1.7131993, 1.7099477,\n",
      "         1.7052068],\n",
      "        [1.8200115, 1.7647563, 1.7259178, ..., 1.9527692, 1.9163761,\n",
      "         1.8752674]],\n",
      "\n",
      "       [[1.7838764, 1.7975072, 2.047828 , ..., 1.7423513, 1.7563435,\n",
      "         1.7702458],\n",
      "        [1.8620338, 1.9399306, 2.3649364, ..., 1.7295061, 1.7495958,\n",
      "         1.784137 ],\n",
      "        [1.7393082, 1.7897238, 2.12581  , ..., 1.6652182, 1.671544 ,\n",
      "         1.6888922],\n",
      "        ...,\n",
      "        [1.4152273, 1.4481564, 1.4759847, ..., 1.3352934, 1.3574487,\n",
      "         1.3822978],\n",
      "        [1.4137244, 1.4163456, 1.4171299, ..., 1.399432 , 1.4057268,\n",
      "         1.4111032],\n",
      "        [1.4122217, 1.384535 , 1.3582747, ..., 1.4635705, 1.4540046,\n",
      "         1.4399085]],\n",
      "\n",
      "       [[2.574256 , 2.4902472, 2.9658768, ..., 2.8028226, 2.7322192,\n",
      "         2.6582637],\n",
      "        [2.793615 , 2.6065378, 3.152874 , ..., 3.2335746, 3.1157954,\n",
      "         2.9806926],\n",
      "        [2.6598845, 2.57169  , 2.966806 , ..., 2.7976441, 2.7819204,\n",
      "         2.7480788],\n",
      "        ...,\n",
      "        [1.1435404, 1.1594356, 1.164336 , ..., 1.0834441, 1.1064311,\n",
      "         1.1276454],\n",
      "        [1.1957959, 1.1966397, 1.1956253, ..., 1.1800438, 1.1884428,\n",
      "         1.1949525],\n",
      "        [1.2480515, 1.2338436, 1.2269156, ..., 1.2766438, 1.2704538,\n",
      "         1.2622597]],\n",
      "\n",
      "       [[4.452515 , 4.551932 , 5.462545 , ..., 4.1825666, 4.265811 ,\n",
      "         4.3530965],\n",
      "        [4.6183634, 4.6827474, 5.851889 , ..., 4.383232 , 4.4716043,\n",
      "         4.55398  ],\n",
      "        [4.3886514, 4.460559 , 5.443972 , ..., 4.1321235, 4.2273483,\n",
      "         4.3167458],\n",
      "        ...,\n",
      "        [2.2834024, 2.3586125, 2.4114606, ..., 2.1063602, 2.1538057,\n",
      "         2.208192 ],\n",
      "        [2.617478 , 2.6297438, 2.6334944, ..., 2.570126 , 2.5884213,\n",
      "         2.6052103],\n",
      "        [2.9515524, 2.9008763, 2.8555276, ..., 3.0338917, 3.0230372,\n",
      "         3.0022283]]], dtype=float32)\n",
      "Coordinates:\n",
      "  * lat      (lat) float64 60.0 61.0 62.0 63.0 64.0 ... 86.0 87.0 88.0 89.0 90.0\n",
      "  * lon      (lon) float64 0.0 1.0 2.0 3.0 4.0 ... 355.0 356.0 357.0 358.0 359.0\n",
      "    model    |S12 ...\n",
      "  * season   (season) object 'DJF' 'JJA' 'MAM' 'SON'\n"
     ]
    }
   ],
   "source": [
    "#Groupby seasonal data. This will take the mean per decade of the seasonal data.\n",
    "ds_season_end = End_Decade.groupby('time.season').mean('time')\n",
    "print(ds_season_end)"
   ]
  },
  {
   "cell_type": "code",
   "execution_count": 7,
   "metadata": {},
   "outputs": [],
   "source": [
    "#Extract each season and save into a variable\n",
    "\n",
    "DJF_test_end = ds_season_end[0]\n",
    "JJA_test_end = ds_season_end[1]\n",
    "MAM_test_end = ds_season_end[2]\n",
    "SON_test_end = ds_season_end[3]\n"
   ]
  },
  {
   "cell_type": "code",
   "execution_count": 8,
   "metadata": {},
   "outputs": [],
   "source": [
    "#Get monthly pr values for 2000-2010\n",
    "Start_Decade = ds['pr'][600:732]\n"
   ]
  },
  {
   "cell_type": "code",
   "execution_count": 9,
   "metadata": {},
   "outputs": [],
   "source": [
    "#Group by season for start of decade\n",
    "ds_season_start = Start_Decade.groupby('time.season').mean('time')"
   ]
  },
  {
   "cell_type": "code",
   "execution_count": 10,
   "metadata": {},
   "outputs": [],
   "source": [
    "#Extract each season and save into a variable\n",
    "\n",
    "DJF_test_start = ds_season_start[0]\n",
    "JJA_test_start = ds_season_start[1]\n",
    "MAM_test_start = ds_season_start[2]\n",
    "SON_test_start = ds_season_start[3]\n"
   ]
  },
  {
   "cell_type": "code",
   "execution_count": 11,
   "metadata": {},
   "outputs": [],
   "source": [
    "#Get the seasonal anomaly for the model\n",
    "\n",
    "Anomaly_DJF = DJF_test_end - DJF_test_start \n",
    "Anomaly_JJA = JJA_test_end - JJA_test_start \n",
    "Anomaly_MAM = MAM_test_end - MAM_test_start \n",
    "Anomaly_SON = SON_test_end - SON_test_start "
   ]
  },
  {
   "cell_type": "code",
   "execution_count": 12,
   "metadata": {},
   "outputs": [],
   "source": [
    "#Save files into individual anomaly files\n",
    "Anomaly_DJF.to_netcdf(r'C:\\Users\\Asus\\Desktop\\Masters Project\\Data\\pr_actual_9_feb\\pr_anomalies_model\\pr_DJF_IPSL-CM6A-LR_Anomaly_2100-2000.nc')\n",
    "Anomaly_JJA.to_netcdf(r'C:\\Users\\Asus\\Desktop\\Masters Project\\Data\\pr_actual_9_feb\\pr_anomalies_model\\pr_JJA_IPSL-CM6A-LR_Anomaly_2100-2000.nc')\n",
    "Anomaly_MAM.to_netcdf(r'C:\\Users\\Asus\\Desktop\\Masters Project\\Data\\pr_actual_9_feb\\pr_anomalies_model\\pr_MAM_IPSL-CM6A-LR_Anomaly_2100-2000.nc')\n",
    "Anomaly_SON.to_netcdf(r'C:\\Users\\Asus\\Desktop\\Masters Project\\Data\\pr_actual_9_feb\\pr_anomalies_model\\pr_SON_IPSL-CM6A-LR_Anomaly_2100-2000.nc')\n",
    "\n"
   ]
  },
  {
   "cell_type": "code",
   "execution_count": null,
   "metadata": {},
   "outputs": [],
   "source": []
  }
 ],
 "metadata": {
  "kernelspec": {
   "display_name": "Python 3",
   "language": "python",
   "name": "python3"
  },
  "language_info": {
   "codemirror_mode": {
    "name": "ipython",
    "version": 3
   },
   "file_extension": ".py",
   "mimetype": "text/x-python",
   "name": "python",
   "nbconvert_exporter": "python",
   "pygments_lexer": "ipython3",
   "version": "3.7.4"
  }
 },
 "nbformat": 4,
 "nbformat_minor": 2
}

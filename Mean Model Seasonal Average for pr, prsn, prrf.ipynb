{
 "cells": [
  {
   "cell_type": "code",
   "execution_count": 1,
   "metadata": {},
   "outputs": [],
   "source": [
    "#This code is used to get the model seasonal mean. Can be used for pr, prsn and prrf\n",
    "#Do take note of the variable used as this will have to be changed and labelled accordingly\n",
    "\n",
    "import numpy\n",
    "import xarray"
   ]
  },
  {
   "cell_type": "code",
   "execution_count": 2,
   "metadata": {},
   "outputs": [],
   "source": [
    "#DJF files for each model \n",
    "dset1 = xarray.open_dataset(r'C:\\Users\\Asus\\Desktop\\Masters Project\\Data\\pr_actual_9_feb\\pr_anomalies_model\\pr_DJF_IPSL-CM6A-LR_Anomaly_2100-2000.nc')\n",
    "dset2 = xarray.open_dataset(r'C:\\Users\\Asus\\Desktop\\Masters Project\\Data\\pr_actual_9_feb\\pr_anomalies_model\\pr_DJF_ACCESS-ESM1-5_Anomaly_2100-2000.nc')\n",
    "dset3 = xarray.open_dataset(r'C:\\Users\\Asus\\Desktop\\Masters Project\\Data\\pr_actual_9_feb\\pr_anomalies_model\\pr_DJF_CanESM5_Anomaly_2100-2000.nc')\n",
    "dset5 = xarray.open_dataset(r'C:\\Users\\Asus\\Desktop\\Masters Project\\Data\\pr_actual_9_feb\\pr_anomalies_model\\pr_DJF_CNRM-ESM2-1_Anomaly_2100-2000.nc')\n",
    "dset6 = xarray.open_dataset(r'C:\\Users\\Asus\\Desktop\\Masters Project\\Data\\pr_actual_9_feb\\pr_anomalies_model\\pr_DJF_EC-Earth3_Anomaly_2100-2000.nc')\n",
    "dset7 = xarray.open_dataset(r'C:\\Users\\Asus\\Desktop\\Masters Project\\Data\\pr_actual_9_feb\\pr_anomalies_model\\pr_DJF_EC-Earth3-Veg_Anomaly_2100-2000.nc')\n",
    "dset8 = xarray.open_dataset(r'C:\\Users\\Asus\\Desktop\\Masters Project\\Data\\pr_actual_9_feb\\pr_anomalies_model\\pr_DJF_HadGEM3-GC31-LL_Anomaly_2100-2000.nc')\n",
    "dset9 = xarray.open_dataset(r'C:\\Users\\Asus\\Desktop\\Masters Project\\Data\\pr_actual_9_feb\\pr_anomalies_model\\pr_DJF_HadGEM3-GC31-MM_Anomaly_2100-2000.nc')\n",
    "dset10 = xarray.open_dataset(r'C:\\Users\\Asus\\Desktop\\Masters Project\\Data\\pr_actual_9_feb\\pr_anomalies_model\\pr_DJF_IPSL-CM6A-LR_Anomaly_2100-2000.nc')\n",
    "dset11 = xarray.open_dataset(r'C:\\Users\\Asus\\Desktop\\Masters Project\\Data\\pr_actual_9_feb\\pr_anomalies_model\\pr_DJF_MIROC6_Anomaly_2100-2000.nc')\n",
    "dset12 = xarray.open_dataset(r'C:\\Users\\Asus\\Desktop\\Masters Project\\Data\\pr_actual_9_feb\\pr_anomalies_model\\pr_DJF_MRI-ESM2-0_Anomaly_2100-2000.nc')\n",
    "dset13 = xarray.open_dataset(r'C:\\Users\\Asus\\Desktop\\Masters Project\\Data\\pr_actual_9_feb\\pr_anomalies_model\\pr_DJF_NorESM2-LM_Anomaly_2100-2000.nc')"
   ]
  },
  {
   "cell_type": "code",
   "execution_count": 3,
   "metadata": {},
   "outputs": [],
   "source": [
    "#Model average for DJF\n",
    "model_average_DJF = (dset1['pr'] + dset2['pr'] + dset3['pr'] + dset5['pr'] + dset6['pr'] + dset7['pr'] + \n",
    "      dset8['pr'] + dset9['pr'] + dset10['pr'] + dset11['pr'] + dset12['pr'] + dset13['pr'])/12"
   ]
  },
  {
   "cell_type": "code",
   "execution_count": 4,
   "metadata": {},
   "outputs": [],
   "source": [
    "#Save model average for DJF into nc file\n",
    "model_average_DJF.to_netcdf(r'C:\\Users\\Asus\\Desktop\\Masters Project\\Data\\pr_actual_9_feb\\pr_seasonal_DJF_mean_anomaly.nc')"
   ]
  },
  {
   "cell_type": "code",
   "execution_count": 5,
   "metadata": {},
   "outputs": [],
   "source": [
    "#Repeat for other seasons\n",
    "#JJA files for each model\n",
    "\n",
    "dset1_JJA = xarray.open_dataset(r'C:\\Users\\Asus\\Desktop\\Masters Project\\Data\\pr_actual_9_feb\\pr_anomalies_model\\pr_JJA_ACCESS-CM2_Anomaly_2100-2000.nc')\n",
    "dset2_JJA = xarray.open_dataset(r'C:\\Users\\Asus\\Desktop\\Masters Project\\Data\\pr_actual_9_feb\\pr_anomalies_model\\pr_JJA_ACCESS-ESM1-5_Anomaly_2100-2000.nc')\n",
    "dset3_JJA = xarray.open_dataset(r'C:\\Users\\Asus\\Desktop\\Masters Project\\Data\\pr_actual_9_feb\\pr_anomalies_model\\pr_JJA_CanESM5_Anomaly_2100-2000.nc')\n",
    "dset5_JJA = xarray.open_dataset(r'C:\\Users\\Asus\\Desktop\\Masters Project\\Data\\pr_actual_9_feb\\pr_anomalies_model\\pr_JJA_CNRM-ESM2-1_Anomaly_2100-2000.nc')\n",
    "dset6_JJA = xarray.open_dataset(r'C:\\Users\\Asus\\Desktop\\Masters Project\\Data\\pr_actual_9_feb\\pr_anomalies_model\\pr_JJA_EC-Earth3_Anomaly_2100-2000.nc')\n",
    "dset7_JJA = xarray.open_dataset(r'C:\\Users\\Asus\\Desktop\\Masters Project\\Data\\pr_actual_9_feb\\pr_anomalies_model\\pr_JJA_EC-Earth3-Veg_Anomaly_2100-2000.nc')\n",
    "dset8_JJA = xarray.open_dataset(r'C:\\Users\\Asus\\Desktop\\Masters Project\\Data\\pr_actual_9_feb\\pr_anomalies_model\\pr_JJA_HadGEM3-GC31-LL_Anomaly_2100-2000.nc')\n",
    "dset9_JJA = xarray.open_dataset(r'C:\\Users\\Asus\\Desktop\\Masters Project\\Data\\pr_actual_9_feb\\pr_anomalies_model\\pr_JJA_HadGEM3-GC31-MM_Anomaly_2100-2000.nc')\n",
    "dset10_JJA = xarray.open_dataset(r'C:\\Users\\Asus\\Desktop\\Masters Project\\Data\\pr_actual_9_feb\\pr_anomalies_model\\pr_JJA_IPSL-CM6A-LR_Anomaly_2100-2000.nc')\n",
    "dset11_JJA = xarray.open_dataset(r'C:\\Users\\Asus\\Desktop\\Masters Project\\Data\\pr_actual_9_feb\\pr_anomalies_model\\pr_JJA_MIROC6_Anomaly_2100-2000.nc')\n",
    "dset12_JJA = xarray.open_dataset(r'C:\\Users\\Asus\\Desktop\\Masters Project\\Data\\pr_actual_9_feb\\pr_anomalies_model\\pr_JJA_MRI-ESM2-0_Anomaly_2100-2000.nc')\n",
    "dset13_JJA = xarray.open_dataset(r'C:\\Users\\Asus\\Desktop\\Masters Project\\Data\\pr_actual_9_feb\\pr_anomalies_model\\pr_JJA_NorESM2-LM_Anomaly_2100-2000.nc')"
   ]
  },
  {
   "cell_type": "code",
   "execution_count": 6,
   "metadata": {},
   "outputs": [],
   "source": [
    "#Model average for JJA\n",
    "model_average_JJA = (dset1_JJA['pr'] + dset2_JJA['pr'] + dset3_JJA['pr'] + dset5_JJA['pr'] + dset6_JJA['pr'] + dset7_JJA['pr'] + \n",
    "      dset8_JJA['pr'] + dset9_JJA['pr'] + dset10_JJA['pr'] + dset11_JJA['pr'] + dset12_JJA['pr'] + dset13_JJA['pr'])/12"
   ]
  },
  {
   "cell_type": "code",
   "execution_count": 7,
   "metadata": {},
   "outputs": [],
   "source": [
    "#Save model average for JJA into nc file\n",
    "model_average_JJA.to_netcdf(r'C:\\Users\\Asus\\Desktop\\Masters Project\\Data\\pr_actual_9_feb\\pr_seasonal_JJA_mean_anomaly.nc')"
   ]
  },
  {
   "cell_type": "code",
   "execution_count": 8,
   "metadata": {},
   "outputs": [],
   "source": [
    "#MAM files for each model\n",
    "dset1_MAM = xarray.open_dataset(r'C:\\Users\\Asus\\Desktop\\Masters Project\\Data\\pr_actual_9_feb\\pr_anomalies_model\\pr_MAM_ACCESS-CM2_Anomaly_2100-2000.nc')\n",
    "dset2_MAM = xarray.open_dataset(r'C:\\Users\\Asus\\Desktop\\Masters Project\\Data\\pr_actual_9_feb\\pr_anomalies_model\\pr_MAM_ACCESS-ESM1-5_Anomaly_2100-2000.nc')\n",
    "dset3_MAM = xarray.open_dataset(r'C:\\Users\\Asus\\Desktop\\Masters Project\\Data\\pr_actual_9_feb\\pr_anomalies_model\\pr_MAM_CanESM5_Anomaly_2100-2000.nc')\n",
    "dset5_MAM = xarray.open_dataset(r'C:\\Users\\Asus\\Desktop\\Masters Project\\Data\\pr_actual_9_feb\\pr_anomalies_model\\pr_MAM_CNRM-ESM2-1_Anomaly_2100-2000.nc')\n",
    "dset6_MAM = xarray.open_dataset(r'C:\\Users\\Asus\\Desktop\\Masters Project\\Data\\pr_actual_9_feb\\pr_anomalies_model\\pr_MAM_EC-Earth3_Anomaly_2100-2000.nc')\n",
    "dset7_MAM = xarray.open_dataset(r'C:\\Users\\Asus\\Desktop\\Masters Project\\Data\\pr_actual_9_feb\\pr_anomalies_model\\pr_MAM_EC-Earth3-Veg_Anomaly_2100-2000.nc')\n",
    "dset8_MAM = xarray.open_dataset(r'C:\\Users\\Asus\\Desktop\\Masters Project\\Data\\pr_actual_9_feb\\pr_anomalies_model\\pr_MAM_HadGEM3-GC31-LL_Anomaly_2100-2000.nc')\n",
    "dset9_MAM = xarray.open_dataset(r'C:\\Users\\Asus\\Desktop\\Masters Project\\Data\\pr_actual_9_feb\\pr_anomalies_model\\pr_MAM_HadGEM3-GC31-MM_Anomaly_2100-2000.nc')\n",
    "dset10_MAM = xarray.open_dataset(r'C:\\Users\\Asus\\Desktop\\Masters Project\\Data\\pr_actual_9_feb\\pr_anomalies_model\\pr_MAM_IPSL-CM6A-LR_Anomaly_2100-2000.nc')\n",
    "dset11_MAM = xarray.open_dataset(r'C:\\Users\\Asus\\Desktop\\Masters Project\\Data\\pr_actual_9_feb\\pr_anomalies_model\\pr_MAM_MIROC6_Anomaly_2100-2000.nc')\n",
    "dset12_MAM = xarray.open_dataset(r'C:\\Users\\Asus\\Desktop\\Masters Project\\Data\\pr_actual_9_feb\\pr_anomalies_model\\pr_MAM_MRI-ESM2-0_Anomaly_2100-2000.nc')\n",
    "dset13_MAM = xarray.open_dataset(r'C:\\Users\\Asus\\Desktop\\Masters Project\\Data\\pr_actual_9_feb\\pr_anomalies_model\\pr_MAM_NorESM2-LM_Anomaly_2100-2000.nc')"
   ]
  },
  {
   "cell_type": "code",
   "execution_count": 9,
   "metadata": {},
   "outputs": [],
   "source": [
    "#Model average for MAM\n",
    "model_average_MAM = (dset1_MAM['pr'] + dset2_MAM['pr'] + dset3_MAM['pr'] + dset5_MAM['pr'] + dset6_MAM['pr'] + dset7_MAM['pr'] + \n",
    "      dset8_MAM['pr'] + dset9_MAM['pr'] + dset10_MAM['pr'] + dset11_MAM['pr'] + dset12_MAM['pr'] + dset13_MAM['pr'])/12"
   ]
  },
  {
   "cell_type": "code",
   "execution_count": 10,
   "metadata": {},
   "outputs": [],
   "source": [
    "#Save model average for MAM into nc file\n",
    "model_average_MAM.to_netcdf(r'C:\\Users\\Asus\\Desktop\\Masters Project\\Data\\pr_actual_9_feb\\pr_seasonal_MAM_mean_anomaly.nc')"
   ]
  },
  {
   "cell_type": "code",
   "execution_count": 11,
   "metadata": {},
   "outputs": [],
   "source": [
    "#SON files for each model\n",
    "dset1_SON = xarray.open_dataset(r'C:\\Users\\Asus\\Desktop\\Masters Project\\Data\\pr_actual_9_feb\\pr_anomalies_model\\pr_SON_ACCESS-CM2_Anomaly_2100-2000.nc')\n",
    "dset2_SON = xarray.open_dataset(r'C:\\Users\\Asus\\Desktop\\Masters Project\\Data\\pr_actual_9_feb\\pr_anomalies_model\\pr_SON_ACCESS-ESM1-5_Anomaly_2100-2000.nc')\n",
    "dset3_SON = xarray.open_dataset(r'C:\\Users\\Asus\\Desktop\\Masters Project\\Data\\pr_actual_9_feb\\pr_anomalies_model\\pr_SON_CanESM5_Anomaly_2100-2000.nc')\n",
    "dset5_SON = xarray.open_dataset(r'C:\\Users\\Asus\\Desktop\\Masters Project\\Data\\pr_actual_9_feb\\pr_anomalies_model\\pr_SON_CNRM-ESM2-1_Anomaly_2100-2000.nc')\n",
    "dset6_SON = xarray.open_dataset(r'C:\\Users\\Asus\\Desktop\\Masters Project\\Data\\pr_actual_9_feb\\pr_anomalies_model\\pr_SON_EC-Earth3_Anomaly_2100-2000.nc')\n",
    "dset7_SON = xarray.open_dataset(r'C:\\Users\\Asus\\Desktop\\Masters Project\\Data\\pr_actual_9_feb\\pr_anomalies_model\\pr_SON_EC-Earth3-Veg_Anomaly_2100-2000.nc')\n",
    "dset8_SON = xarray.open_dataset(r'C:\\Users\\Asus\\Desktop\\Masters Project\\Data\\pr_actual_9_feb\\pr_anomalies_model\\pr_SON_HadGEM3-GC31-LL_Anomaly_2100-2000.nc')\n",
    "dset9_SON = xarray.open_dataset(r'C:\\Users\\Asus\\Desktop\\Masters Project\\Data\\pr_actual_9_feb\\pr_anomalies_model\\pr_SON_HadGEM3-GC31-MM_Anomaly_2100-2000.nc')\n",
    "dset10_SON = xarray.open_dataset(r'C:\\Users\\Asus\\Desktop\\Masters Project\\Data\\pr_actual_9_feb\\pr_anomalies_model\\pr_SON_IPSL-CM6A-LR_Anomaly_2100-2000.nc')\n",
    "dset11_SON = xarray.open_dataset(r'C:\\Users\\Asus\\Desktop\\Masters Project\\Data\\pr_actual_9_feb\\pr_anomalies_model\\pr_SON_MIROC6_Anomaly_2100-2000.nc')\n",
    "dset12_SON = xarray.open_dataset(r'C:\\Users\\Asus\\Desktop\\Masters Project\\Data\\pr_actual_9_feb\\pr_anomalies_model\\pr_SON_MRI-ESM2-0_Anomaly_2100-2000.nc')\n",
    "dset13_SON = xarray.open_dataset(r'C:\\Users\\Asus\\Desktop\\Masters Project\\Data\\pr_actual_9_feb\\pr_anomalies_model\\pr_SON_NorESM2-LM_Anomaly_2100-2000.nc')"
   ]
  },
  {
   "cell_type": "code",
   "execution_count": 12,
   "metadata": {},
   "outputs": [],
   "source": [
    "#Model average for SON\n",
    "model_average_SON = (dset1_SON['pr'] + dset2_SON['pr'] + dset3_SON['pr'] + dset5_SON['pr'] + dset6_SON['pr'] + dset7_SON['pr'] + \n",
    "      dset8_SON['pr'] + dset9_SON['pr'] + dset10_SON['pr'] + dset11_SON['pr'] + dset12_SON['pr'] + dset13_SON['pr'])/12"
   ]
  },
  {
   "cell_type": "code",
   "execution_count": 13,
   "metadata": {},
   "outputs": [],
   "source": [
    "#Save model average for SON into nc file\n",
    "model_average_SON.to_netcdf(r'C:\\Users\\Asus\\Desktop\\Masters Project\\Data\\pr_actual_9_feb\\pr_seasonal_SON_mean_anomaly.nc')"
   ]
  },
  {
   "cell_type": "code",
   "execution_count": null,
   "metadata": {},
   "outputs": [],
   "source": []
  }
 ],
 "metadata": {
  "kernelspec": {
   "display_name": "Python 3",
   "language": "python",
   "name": "python3"
  },
  "language_info": {
   "codemirror_mode": {
    "name": "ipython",
    "version": 3
   },
   "file_extension": ".py",
   "mimetype": "text/x-python",
   "name": "python",
   "nbconvert_exporter": "python",
   "pygments_lexer": "ipython3",
   "version": "3.7.4"
  }
 },
 "nbformat": 4,
 "nbformat_minor": 2
}
